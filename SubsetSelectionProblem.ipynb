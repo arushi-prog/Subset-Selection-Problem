{
  "nbformat": 4,
  "nbformat_minor": 0,
  "metadata": {
    "colab": {
      "provenance": [],
      "authorship_tag": "ABX9TyPeYihZLcSIR9NIhLCGDZh0",
      "include_colab_link": true
    },
    "kernelspec": {
      "name": "python3",
      "display_name": "Python 3"
    },
    "language_info": {
      "name": "python"
    }
  },
  "cells": [
    {
      "cell_type": "markdown",
      "metadata": {
        "id": "view-in-github",
        "colab_type": "text"
      },
      "source": [
        "<a href=\"https://colab.research.google.com/github/arushi-prog/Subset-Selection-Problem/blob/main/SubsetSelectionProblem.ipynb\" target=\"_parent\"><img src=\"https://colab.research.google.com/assets/colab-badge.svg\" alt=\"Open In Colab\"/></a>"
      ]
    },
    {
      "cell_type": "code",
      "execution_count": 3,
      "metadata": {
        "colab": {
          "base_uri": "https://localhost:8080/"
        },
        "id": "RX6TP967rOQv",
        "outputId": "ed84ec73-e65e-468f-a07a-712b7c16aa88"
      },
      "outputs": [
        {
          "output_type": "stream",
          "name": "stdout",
          "text": [
            "(-7, -4, -2, 6, 7)\n",
            "(-7, -6, -4, 1, 7, 9)\n",
            "(-9, -8, -3, 9, 11)\n",
            "(-9, 2, 7)\n",
            "(-12, -5, 6, 11)\n",
            "(-12, -8, 1, 3, 7, 9)\n",
            "(-8, -6, 3, 11)\n",
            "(-9, -2, 2, 9)\n",
            "(-7, -6, 1, 3, 9)\n",
            "(-4, 1, 3)\n",
            "(-5, -4, 2, 7)\n",
            "(-12, 1, 11)\n",
            "(-7, -2, 1, 2, 6)\n",
            "(-9, -6, 1, 2, 3, 9)\n",
            "(-6, 1, 2, 3)\n",
            "(-8, 2, 6)\n",
            "(-12, -7, 1, 2, 7, 9)\n",
            "(-9, -2, 11)\n",
            "(-9, -3, -2, 2, 3, 9)\n",
            "(-6, -4, -2, 3, 9)\n",
            "(-4, -2, 6)\n",
            "(-8, -6, -2, 2, 3, 11)\n",
            "(-8, -7, 6, 9)\n",
            "(-7, 1, 6)\n",
            "(-12, -8, 2, 7, 11)\n",
            "(-9, 3, 6)\n",
            "(-7, -3, 3, 7)\n",
            "\n",
            "Total Sets:  27\n"
          ]
        }
      ],
      "source": [
        "import random as r\n",
        "Set = set([-12, -3, -6, 7, 2, -2, 6, 3, 9, -7, -5, -8, 1, 11, -9, -4])\n",
        "SetList = list(Set)\n",
        "Set_LB = 3\n",
        "Set_UB = 6\n",
        "Result_List = set()\n",
        "Iterations = 1000\n",
        "for i in range(Iterations):\n",
        "    SetSize = r.randint(Set_LB,Set_UB)\n",
        "    No_of_sets = r.sample(SetList,SetSize)\n",
        "    No_of_sets.sort()\n",
        "    if sum(No_of_sets) == 0:\n",
        "        Result_List.add(tuple(No_of_sets))\n",
        "\n",
        "for r in Result_List:\n",
        "\tprint(r)\n",
        "\n",
        "print (\"\\nTotal Sets: \", len(Result_List))"
      ]
    }
  ]
}